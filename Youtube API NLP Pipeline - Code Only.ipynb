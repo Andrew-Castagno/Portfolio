{
 "cells": [
  {
   "cell_type": "code",
   "execution_count": 7,
   "metadata": {},
   "outputs": [],
   "source": [
    "import requests \n",
    "import time\n",
    "import pandas as pd\n",
    "from dotenv import load_dotenv\n",
    "import os\n",
    "import psycopg2 as ps \n",
    "import html\n",
    "from flair.models import TextClassifier\n",
    "from flair.data import Sentence"
   ]
  },
  {
   "cell_type": "code",
   "execution_count": 8,
   "metadata": {},
   "outputs": [],
   "source": [
    "def configure():\n",
    "    load_dotenv() #securely loading in my credentials from .env"
   ]
  },
  {
   "cell_type": "code",
   "execution_count": 9,
   "metadata": {},
   "outputs": [],
   "source": [
    "#key and ID\n",
    "configure()\n",
    "API_KEY = os.getenv(\"API_KEY\")\n",
    "CHANNEL_ID = \"UCsXVk37bltHxD1rDPwtNM8Q\" #ID for any YouTube channel (currently Kurzgesagt)"
   ]
  },
  {
   "cell_type": "code",
   "execution_count": 10,
   "metadata": {},
   "outputs": [],
   "source": [
    "# Pulling channel data from YouTube API\n",
    "def get_youtube_data(API_KEY, CHANNEL_ID):\n",
    "    page = \"\"\n",
    "    vid_df = pd.DataFrame(columns=[\"vid_id\",\"vid_title\",\"upload_time\",\"upload_date\",\"view_count\",\"like_count\",\"comment_count\"]) \n",
    "    \n",
    "    while True:\n",
    "        url = \"https://www.googleapis.com/youtube/v3/search?key=\"+API_KEY+\"&channelId=\"+CHANNEL_ID+\"&order=date&maxResults=2000&part=snippet,id&\"+page\n",
    "\n",
    "        video_info = requests.get(url).json()\n",
    "        time.sleep(1) #waits for one second, letting call finish\n",
    "        for video in video_info['items']:\n",
    "            if video['id']['kind'] == \"youtube#video\":\n",
    "                vid_id = video['id']['videoId']\n",
    "                vid_title = video['snippet']['title']\n",
    "                upload_date = video['snippet']['publishedAt']\n",
    "                upload_time = str(upload_date).split(\"T\")[1]\n",
    "                upload_time = upload_time.replace(\"Z\",\"\")\n",
    "                upload_date = str(upload_date).split(\"T\")[0]\n",
    "                \n",
    "                #making an api call using the video id to pull video stats\n",
    "                url_vid_stats = \"https://www.googleapis.com/youtube/v3/videos?id=\"+vid_id+\"&part=statistics&key=\"+API_KEY\n",
    "                vid_stats = requests.get(url_vid_stats).json()\n",
    "                \n",
    "                view_count = vid_stats['items'][0]['statistics']['viewCount']\n",
    "                like_count = vid_stats['items'][0]['statistics']['likeCount']\n",
    "                comment_count = vid_stats['items'][0]['statistics']['commentCount']\n",
    "                \n",
    "                #concatenating into the dataframe\n",
    "                d = {'vid_id':[vid_id], 'vid_title':[vid_title], 'upload_time':[upload_time],\n",
    "                     'upload_date':[upload_date], 'view_count':[view_count], \n",
    "                     'like_count':[like_count], 'comment_count':[comment_count]}\n",
    "                vid_df = pd.concat([vid_df, pd.DataFrame(data = d)], ignore_index = True)\n",
    "                \n",
    "                \n",
    "        try:\n",
    "            if video_info['nextPageToken'] != None: \n",
    "                page = \"pageToken=\" + video_info['nextPageToken'] # causes loop to end when we reach final page\n",
    "\n",
    "        except:\n",
    "            break\n",
    "        \n",
    "    #translating html codes in title names to their corresponding symbols\n",
    "    for i in range(len(vid_df)):\n",
    "        vid_df.vid_title[i] = html.unescape(vid_df.vid_title[i])\n",
    "    vid_df['upload_date'] = pd.to_datetime(vid_df['upload_date'])\n",
    "\n",
    "    return vid_df"
   ]
  },
  {
   "cell_type": "code",
   "execution_count": 128,
   "metadata": {},
   "outputs": [],
   "source": [
    "video_df = get_youtube_data(API_KEY, CHANNEL_ID)"
   ]
  },
  {
   "cell_type": "code",
   "execution_count": 121,
   "metadata": {},
   "outputs": [],
   "source": [
    "#Adds output of title sentment analysis as a new column\n",
    "def add_sentiment(video_df):\n",
    "    title_sentiment = []\n",
    "\n",
    "    for i,vid in video_df.iterrows():\n",
    "        title = Sentence(vid['vid_title'])\n",
    "        classifier.predict(title)\n",
    "        for label in title.labels:\n",
    "            if label.score <= .75:\n",
    "                title_sentiment.append(\"NEUTRAL\")\n",
    "            else:\n",
    "                title_sentiment.append(label.value)\n",
    "\n",
    "    video_df[\"title_sentiment\"] = title_sentiment\n",
    "        "
   ]
  },
  {
   "cell_type": "code",
   "execution_count": 129,
   "metadata": {},
   "outputs": [],
   "source": [
    "add_sentiment(video_df)"
   ]
  },
  {
   "cell_type": "code",
   "execution_count": 131,
   "metadata": {},
   "outputs": [],
   "source": [
    "#loading in AWS credentials\n",
    "configure()\n",
    "ENDPOINT=os.getenv(\"ENDPOINT\")\n",
    "PORT=os.getenv(\"PORT\")\n",
    "DB_NAME=os.getenv(\"DB_NAME\")\n",
    "USERNAME=os.getenv(\"USERNAME\")\n",
    "PASSWORD=os.getenv(\"PASSWORD\")"
   ]
  },
  {
   "cell_type": "code",
   "execution_count": 132,
   "metadata": {},
   "outputs": [],
   "source": [
    "def db_connect(host, database, user, password, port):\n",
    "    try:\n",
    "        connection = ps.connect(host=host, database=database, user=user, password=password, port=port)\n",
    "\n",
    "    except ps.OperationalError as e:\n",
    "        raise e\n",
    "    else:\n",
    "        print('Connected!')\n",
    "        return connection"
   ]
  },
  {
   "cell_type": "code",
   "execution_count": 133,
   "metadata": {},
   "outputs": [
    {
     "name": "stdout",
     "output_type": "stream",
     "text": [
      "Connected!\n"
     ]
    }
   ],
   "source": [
    "connection = db_connect(host = ENDPOINT,database = DB_NAME,\n",
    "                        user = USERNAME,password = PASSWORD,\n",
    "                        port = PORT)"
   ]
  },
  {
   "cell_type": "code",
   "execution_count": 134,
   "metadata": {},
   "outputs": [],
   "source": [
    "#creates a table on the database if there is not one already\n",
    "def initialize_vid_table(curs):\n",
    "    sql_create_df = (\"\"\"CREATE TABLE IF NOT EXISTS video_data (\n",
    "                vid_id VARCHAR(255) PRIMARY KEY,\n",
    "                vid_title VARCHAR(255) NOT NULL,\n",
    "                upload_time VARCHAR(255) NOT NULL,\n",
    "                upload_date VARCHAR(255) NOT NULL,\n",
    "                view_count INTEGER NOT NULL,\n",
    "                like_count INTEGER NOT NULL,\n",
    "                comment_count INTEGER NOT NULL,\n",
    "                title_sentiment VARCHAR(255) NOT NULL\n",
    "            )\"\"\")\n",
    "    curs.execute(sql_create_df)\n",
    "    connection.commit()"
   ]
  },
  {
   "cell_type": "code",
   "execution_count": 135,
   "metadata": {},
   "outputs": [],
   "source": [
    "curs = connection.cursor()\n",
    "connection.commit()\n",
    "\n",
    "initialize_vid_table(curs)"
   ]
  },
  {
   "cell_type": "code",
   "execution_count": 137,
   "metadata": {},
   "outputs": [],
   "source": [
    "#determines if a video is in the database table\n",
    "def vid_in_table(curs, vid_id):\n",
    "    sql_query = (\"\"\"SELECT vid_id FROM video_data WHERE vid_id = %s\"\"\")\n",
    "    curs.execute(sql_query,(vid_id,))\n",
    "    \n",
    "    return curs.fetchone() is not None\n",
    "\n",
    "#updates video information\n",
    "def update_vid(curs, vid_id, vid_title, view_count, like_count, comment_count, title_sentiment):\n",
    "    sql_query = (\"\"\"UPDATE video_data\n",
    "                    SET vid_title = %s,\n",
    "                        view_count = %s,\n",
    "                        like_count = %s,\n",
    "                        comment_count = %s,\n",
    "                        title_sentiment = %s,\n",
    "                    WHERE vid_id = %s;\"\"\")\n",
    "    update_vars = (vid_title, view_count, like_count, comment_count) #tuple of vars I want to update\n",
    "    curs.execute(sql_query, update_vars)\n",
    "\n",
    "#inserts new videos\n",
    "def insert_vids(curs, vid_id, vid_title, upload_time, upload_date, view_count, like_count, comment_count, title_sentiment):\n",
    "    sql_query = (\"\"\"INSERT INTO video_data (\n",
    "                        vid_id, vid_title, upload_time,\n",
    "                        upload_date, view_count, like_count, \n",
    "                        comment_count, title_sentiment)\n",
    "                    VALUES(%s,%s,%s,%s,%s,%s,%s,%s);\"\"\")\n",
    "    insert_vars = (vid_id, vid_title, upload_time, upload_date, view_count, like_count, comment_count, title_sentiment)\n",
    "    curs.execute(sql_query, insert_vars)\n",
    "        "
   ]
  },
  {
   "cell_type": "code",
   "execution_count": 138,
   "metadata": {},
   "outputs": [],
   "source": [
    "#adds video data to database or updates if already present\n",
    "def df_to_db(curs, video_df):\n",
    "    insert_df = pd.DataFrame(columns=[\"vid_id\",\"vid_title\",\"upload_time\",\n",
    "                                      \"upload_date\",\"view_count\",\"like_count\",\n",
    "                                      \"comment_count\", \"title_sentiment\"]) \n",
    "    for i,vid in video_df.iterrows():\n",
    "        if vid_in_table(curs, vid[\"vid_id\"]):\n",
    "            update_vid(curs, vid[\"vid_id\"], vid[\"vid_title\"], vid[\"view_count\"],\n",
    "                       vid[\"like_count\"], vid[\"comment_count\"], vid[\"title_sentiment\"])\n",
    "        else:\n",
    "            temp = pd.DataFrame(data = {\"vid_id\":[vid[\"vid_id\"]],\"vid_title\":[vid[\"vid_title\"]],\n",
    "                                        \"upload_time\":[vid[\"upload_time\"]],\"upload_date\":[vid[\"upload_date\"]],\n",
    "                                        \"view_count\":[vid[\"view_count\"]],\"like_count\":[vid[\"like_count\"]],\n",
    "                                        \"comment_count\":[vid[\"comment_count\"]],\"title_sentiment\":[vid[\"title_sentiment\"]]})\n",
    "            insert_df = pd.concat([insert_df, temp], ignore_index = True)\n",
    "    \n",
    "    for i,vid in insert_df.iterrows():\n",
    "        insert_vids(curs, vid[\"vid_id\"], vid[\"vid_title\"], \n",
    "                    vid[\"upload_time\"], vid[\"upload_date\"], \n",
    "                    vid[\"view_count\"], vid[\"like_count\"], \n",
    "                    vid[\"comment_count\"], vid[\"title_sentiment\"])\n",
    "    connection.commit()\n",
    "        "
   ]
  },
  {
   "cell_type": "code",
   "execution_count": 139,
   "metadata": {},
   "outputs": [],
   "source": [
    "df_to_db(curs, video_df) #commits youtube data to database"
   ]
  }
 ],
 "metadata": {
  "kernelspec": {
   "display_name": "Python 3 (ipykernel)",
   "language": "python",
   "name": "python3"
  },
  "language_info": {
   "codemirror_mode": {
    "name": "ipython",
    "version": 3
   },
   "file_extension": ".py",
   "mimetype": "text/x-python",
   "name": "python",
   "nbconvert_exporter": "python",
   "pygments_lexer": "ipython3",
   "version": "3.9.10"
  }
 },
 "nbformat": 4,
 "nbformat_minor": 2
}
